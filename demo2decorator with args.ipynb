{
 "cells": [
  {
   "cell_type": "code",
   "execution_count": 2,
   "metadata": {},
   "outputs": [],
   "source": [
    "def decorate_it_with_args(func):\n",
    "  def adding_extra_behaviour(*args, **kwargs):\n",
    "    print(\"**\"*10)\n",
    "    func(*args,**kwargs)\n",
    "    print(\"**\"*10)\n",
    "    \n",
    "  return adding_extra_behaviour"
   ]
  },
  {
   "cell_type": "code",
   "execution_count": 3,
   "metadata": {},
   "outputs": [
    {
     "name": "stdout",
     "output_type": "stream",
     "text": [
      "********************\n",
      "Hi from Shubhendu\n",
      "********************\n",
      "********************\n",
      "Hi from Shubh\n",
      "********************\n"
     ]
    }
   ],
   "source": [
    "@decorate_it_with_args\n",
    "def print_name(name):\n",
    "  print(f\"Hi from {name}\")\n",
    "  \n",
    "print_name(\"Shubhendu\")\n",
    "print_name(\"Shubh\")"
   ]
  },
  {
   "cell_type": "code",
   "execution_count": 1,
   "metadata": {},
   "outputs": [
    {
     "name": "stdout",
     "output_type": "stream",
     "text": [
      "********************\n",
      "Hi from Shubhendu\n",
      "********************\n",
      "********************\n",
      "Hi from Shubh\n",
      "********************\n"
     ]
    }
   ],
   "source": [
    "from decorators import decorate_it_with_args\n",
    "\n",
    "@decorate_it_with_args\n",
    "def print_name(name):\n",
    "  print(f\"Hi from {name}\")\n",
    "  \n",
    "print_name(\"Shubhendu\")\n",
    "print_name(\"Shubh\")"
   ]
  },
  {
   "cell_type": "code",
   "execution_count": null,
   "metadata": {},
   "outputs": [],
   "source": []
  }
 ],
 "metadata": {
  "kernelspec": {
   "display_name": "Python 3",
   "language": "python",
   "name": "python3"
  },
  "language_info": {
   "codemirror_mode": {
    "name": "ipython",
    "version": 3
   },
   "file_extension": ".py",
   "mimetype": "text/x-python",
   "name": "python",
   "nbconvert_exporter": "python",
   "pygments_lexer": "ipython3",
   "version": "3.8.8"
  }
 },
 "nbformat": 4,
 "nbformat_minor": 2
}
