{
 "cells": [
  {
   "cell_type": "code",
   "execution_count": 4,
   "metadata": {},
   "outputs": [
    {
     "name": "stdout",
     "output_type": "stream",
     "text": [
      "********************\n",
      "Shubhendu\n",
      "******************************\n"
     ]
    }
   ],
   "source": [
    "def decorate_it(func):\n",
    "  def adding_extra_behaviour():\n",
    "    print(\"**\"*10)\n",
    "    func()\n",
    "    print(\"***\"*10)\n",
    "  return adding_extra_behaviour\n",
    "\n",
    "def print_name():\n",
    "  print(\"Shubhendu\")\n",
    "  \n",
    "# print_name()\n",
    "\n",
    "##first way\n",
    "my_name = decorate_it(print_name)\n",
    "my_name()\n",
    "\n"
   ]
  },
  {
   "cell_type": "code",
   "execution_count": 5,
   "metadata": {},
   "outputs": [
    {
     "name": "stdout",
     "output_type": "stream",
     "text": [
      "********************\n",
      "Shubhendu\n",
      "******************************\n"
     ]
    }
   ],
   "source": [
    "def decorate_it(func):\n",
    "  def adding_extra_behaviour():\n",
    "    print(\"**\"*10)\n",
    "    func()\n",
    "    print(\"***\"*10)\n",
    "  return adding_extra_behaviour\n",
    "\n",
    "## recommended way\n",
    "@decorate_it\n",
    "def print_name():\n",
    "  print(\"Shubhendu\")\n",
    "  \n",
    "print_name()"
   ]
  },
  {
   "cell_type": "code",
   "execution_count": 6,
   "metadata": {},
   "outputs": [
    {
     "name": "stdout",
     "output_type": "stream",
     "text": [
      "welcome to blessing moon\n"
     ]
    }
   ],
   "source": [
    "def print_welcome():\n",
    "  print(\"welcome to blessing moon\")\n",
    "  \n",
    "print_welcome()"
   ]
  },
  {
   "cell_type": "code",
   "execution_count": 9,
   "metadata": {},
   "outputs": [
    {
     "name": "stdout",
     "output_type": "stream",
     "text": [
      "********************\n",
      "welcome to blessing moon\n",
      "******************************\n"
     ]
    }
   ],
   "source": [
    "@decorate_it\n",
    "def print_welcome():\n",
    "  print(\"welcome to blessing moon\")\n",
    "  \n",
    "print_welcome()"
   ]
  },
  {
   "cell_type": "code",
   "execution_count": 1,
   "metadata": {},
   "outputs": [
    {
     "name": "stdout",
     "output_type": "stream",
     "text": [
      "********************\n",
      "welcome to blessing moon\n",
      "******************************\n"
     ]
    }
   ],
   "source": [
    "from decorators import decorate_it\n",
    "@decorate_it\n",
    "def print_welcome():\n",
    "  print(\"welcome to blessing moon\")\n",
    "  \n",
    "print_welcome()"
   ]
  },
  {
   "cell_type": "code",
   "execution_count": 1,
   "metadata": {},
   "outputs": [
    {
     "name": "stdout",
     "output_type": "stream",
     "text": [
      "********************\n",
      "******************************\n"
     ]
    }
   ],
   "source": [
    "from decorators import decorate_it\n",
    "@decorate_it\n",
    "def print_welcome():\n",
    "  return \"welcome to blessing moon\"\n",
    "  \n",
    "print_welcome()"
   ]
  }
 ],
 "metadata": {
  "kernelspec": {
   "display_name": "Python 3",
   "language": "python",
   "name": "python3"
  },
  "language_info": {
   "codemirror_mode": {
    "name": "ipython",
    "version": 3
   },
   "file_extension": ".py",
   "mimetype": "text/x-python",
   "name": "python",
   "nbconvert_exporter": "python",
   "pygments_lexer": "ipython3",
   "version": "3.9.0"
  }
 },
 "nbformat": 4,
 "nbformat_minor": 2
}
